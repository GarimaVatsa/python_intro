{
 "cells": [
  {
   "cell_type": "code",
   "execution_count": 1,
   "metadata": {},
   "outputs": [
    {
     "name": "stdout",
     "output_type": "stream",
     "text": [
      "\n",
      "Python is an interpreted, high-level programming language for general-purpose programming. Created by Guido van Rossum \n",
      "and first released in 1991, Python has a design philosophy that emphasizes code readability, notably using significant \n",
      "whitespace. It provides constructs that enable clear programming on both small and large scales.[26] In July 2018, \n",
      "Van Rossum stepped down as the leader in the language community.[27][28]\n",
      "Python features a dynamic type system and automatic memory management. It supports multiple programming paradigms, \n",
      "including object-oriented, imperative, functional and procedural, and has a large and comprehensive standard library.[29]\n",
      "Python interpreters are available for many operating systems. CPython, the reference implementation of Python, \n",
      "is open source software[30] and has a community-based development model, as do nearly all of Python's other implementations. \n",
      "Python and CPython are managed by the non-profit Python Software Foundation.\n",
      "\n"
     ]
    }
   ],
   "source": [
    "paragraph = \"\"\"\n",
    "Python is an interpreted, high-level programming language for general-purpose programming. Created by Guido van Rossum \n",
    "and first released in 1991, Python has a design philosophy that emphasizes code readability, notably using significant \n",
    "whitespace. It provides constructs that enable clear programming on both small and large scales.[26] In July 2018, \n",
    "Van Rossum stepped down as the leader in the language community.[27][28]\n",
    "Python features a dynamic type system and automatic memory management. It supports multiple programming paradigms, \n",
    "including object-oriented, imperative, functional and procedural, and has a large and comprehensive standard library.[29]\n",
    "Python interpreters are available for many operating systems. CPython, the reference implementation of Python, \n",
    "is open source software[30] and has a community-based development model, as do nearly all of Python's other implementations. \n",
    "Python and CPython are managed by the non-profit Python Software Foundation.\n",
    "\"\"\"\n",
    "print(paragraph)"
   ]
  },
  {
   "cell_type": "code",
   "execution_count": 2,
   "metadata": {},
   "outputs": [],
   "source": [
    "special=paragraph.split()"
   ]
  },
  {
   "cell_type": "code",
   "execution_count": 3,
   "metadata": {},
   "outputs": [
    {
     "name": "stdout",
     "output_type": "stream",
     "text": [
      "['Python', 'is', 'an', 'interpreted,', 'high-level', 'programming', 'language', 'for', 'general-purpose', 'programming.', 'Created', 'by', 'Guido', 'van', 'Rossum', 'and', 'first', 'released', 'in', '1991,', 'Python', 'has', 'a', 'design', 'philosophy', 'that', 'emphasizes', 'code', 'readability,', 'notably', 'using', 'significant', 'whitespace.', 'It', 'provides', 'constructs', 'that', 'enable', 'clear', 'programming', 'on', 'both', 'small', 'and', 'large', 'scales.[26]', 'In', 'July', '2018,', 'Van', 'Rossum', 'stepped', 'down', 'as', 'the', 'leader', 'in', 'the', 'language', 'community.[27][28]', 'Python', 'features', 'a', 'dynamic', 'type', 'system', 'and', 'automatic', 'memory', 'management.', 'It', 'supports', 'multiple', 'programming', 'paradigms,', 'including', 'object-oriented,', 'imperative,', 'functional', 'and', 'procedural,', 'and', 'has', 'a', 'large', 'and', 'comprehensive', 'standard', 'library.[29]', 'Python', 'interpreters', 'are', 'available', 'for', 'many', 'operating', 'systems.', 'CPython,', 'the', 'reference', 'implementation', 'of', 'Python,', 'is', 'open', 'source', 'software[30]', 'and', 'has', 'a', 'community-based', 'development', 'model,', 'as', 'do', 'nearly', 'all', 'of', \"Python's\", 'other', 'implementations.', 'Python', 'and', 'CPython', 'are', 'managed', 'by', 'the', 'non-profit', 'Python', 'Software', 'Foundation.']\n"
     ]
    }
   ],
   "source": [
    "print(special)"
   ]
  },
  {
   "cell_type": "code",
   "execution_count": 4,
   "metadata": {},
   "outputs": [],
   "source": [
    "punctuation='''!()-[]{};:'\"\\,<>./?@#$%^&*_~'''"
   ]
  },
  {
   "cell_type": "code",
   "execution_count": 5,
   "metadata": {},
   "outputs": [
    {
     "ename": "NameError",
     "evalue": "name 'punctutation' is not defined",
     "output_type": "error",
     "traceback": [
      "\u001b[1;31m---------------------------------------------------------------------------\u001b[0m",
      "\u001b[1;31mNameError\u001b[0m                                 Traceback (most recent call last)",
      "\u001b[1;32m<ipython-input-5-5a4efc951c02>\u001b[0m in \u001b[0;36m<module>\u001b[1;34m()\u001b[0m\n\u001b[1;32m----> 1\u001b[1;33m \u001b[0mprint\u001b[0m \u001b[1;33m(\u001b[0m\u001b[0mpunctutation\u001b[0m\u001b[1;33m)\u001b[0m\u001b[1;33m\u001b[0m\u001b[0m\n\u001b[0m",
      "\u001b[1;31mNameError\u001b[0m: name 'punctutation' is not defined"
     ]
    }
   ],
   "source": [
    "print (punctutation)"
   ]
  },
  {
   "cell_type": "code",
   "execution_count": 6,
   "metadata": {},
   "outputs": [
    {
     "ename": "NameError",
     "evalue": "name 'punctutation' is not defined",
     "output_type": "error",
     "traceback": [
      "\u001b[1;31m---------------------------------------------------------------------------\u001b[0m",
      "\u001b[1;31mNameError\u001b[0m                                 Traceback (most recent call last)",
      "\u001b[1;32m<ipython-input-6-84c8b5a99069>\u001b[0m in \u001b[0;36m<module>\u001b[1;34m()\u001b[0m\n\u001b[1;32m----> 1\u001b[1;33m \u001b[0mprint\u001b[0m\u001b[1;33m(\u001b[0m\u001b[0mpunctutation\u001b[0m\u001b[1;33m)\u001b[0m\u001b[1;33m\u001b[0m\u001b[0m\n\u001b[0m",
      "\u001b[1;31mNameError\u001b[0m: name 'punctutation' is not defined"
     ]
    }
   ],
   "source": [
    "print(punctutation)"
   ]
  },
  {
   "cell_type": "code",
   "execution_count": 7,
   "metadata": {},
   "outputs": [
    {
     "name": "stdout",
     "output_type": "stream",
     "text": [
      "!()-[]{};:'\"\\,<>./?@#$%^&*_~\n"
     ]
    }
   ],
   "source": [
    "print(punctuation)"
   ]
  },
  {
   "cell_type": "code",
   "execution_count": 16,
   "metadata": {},
   "outputs": [
    {
     "name": "stdout",
     "output_type": "stream",
     "text": [
      "\n",
      "Python is an interpreted highlevel programming language for generalpurpose programming Created by Guido van Rossum \n",
      "and first released in 1991 Python has a design philosophy that emphasizes code readability notably using significant \n",
      "whitespace It provides constructs that enable clear programming on both small and large scales26 In July 2018 \n",
      "Van Rossum stepped down as the leader in the language community2728\n",
      "Python features a dynamic type system and automatic memory management It supports multiple programming paradigms \n",
      "including objectoriented imperative functional and procedural and has a large and comprehensive standard library29\n",
      "Python interpreters are available for many operating systems CPython the reference implementation of Python \n",
      "is open source software30 and has a communitybased development model as do nearly all of Pythons other implementations \n",
      "Python and CPython are managed by the nonprofit Python Software Foundation\n",
      "\n",
      "\n"
     ]
    }
   ],
   "source": [
    "punct=\"\"\n",
    "for p in paragraph:\n",
    "    if p not in punctuation:\n",
    "        punct=no_punct + p\n",
    "print(punct)"
   ]
  },
  {
   "cell_type": "code",
   "execution_count": 10,
   "metadata": {},
   "outputs": [],
   "source": [
    "special=punct.split()"
   ]
  },
  {
   "cell_type": "code",
   "execution_count": 11,
   "metadata": {},
   "outputs": [
    {
     "name": "stdout",
     "output_type": "stream",
     "text": [
      "['Python', 'is', 'an', 'interpreted', 'highlevel', 'programming', 'language', 'for', 'generalpurpose', 'programming', 'Created', 'by', 'Guido', 'van', 'Rossum', 'and', 'first', 'released', 'in', '1991', 'Python', 'has', 'a', 'design', 'philosophy', 'that', 'emphasizes', 'code', 'readability', 'notably', 'using', 'significant', 'whitespace', 'It', 'provides', 'constructs', 'that', 'enable', 'clear', 'programming', 'on', 'both', 'small', 'and', 'large', 'scales26', 'In', 'July', '2018', 'Van', 'Rossum', 'stepped', 'down', 'as', 'the', 'leader', 'in', 'the', 'language', 'community2728', 'Python', 'features', 'a', 'dynamic', 'type', 'system', 'and', 'automatic', 'memory', 'management', 'It', 'supports', 'multiple', 'programming', 'paradigms', 'including', 'objectoriented', 'imperative', 'functional', 'and', 'procedural', 'and', 'has', 'a', 'large', 'and', 'comprehensive', 'standard', 'library29', 'Python', 'interpreters', 'are', 'available', 'for', 'many', 'operating', 'systems', 'CPython', 'the', 'reference', 'implementation', 'of', 'Python', 'is', 'open', 'source', 'software30', 'and', 'has', 'a', 'communitybased', 'development', 'model', 'as', 'do', 'nearly', 'all', 'of', 'Pythons', 'other', 'implementations', 'Python', 'and', 'CPython', 'are', 'managed', 'by', 'the', 'nonprofit', 'Python', 'Software', 'Foundation']\n"
     ]
    }
   ],
   "source": [
    "print(special)"
   ]
  },
  {
   "cell_type": "code",
   "execution_count": 73,
   "metadata": {},
   "outputs": [],
   "source": [
    "stopwords=punct.endswith('s')"
   ]
  },
  {
   "cell_type": "code",
   "execution_count": 75,
   "metadata": {},
   "outputs": [
    {
     "name": "stdout",
     "output_type": "stream",
     "text": [
      "False\n"
     ]
    }
   ],
   "source": [
    "print(stopwords)"
   ]
  },
  {
   "cell_type": "code",
   "execution_count": 78,
   "metadata": {},
   "outputs": [
    {
     "name": "stdout",
     "output_type": "stream",
     "text": [
      "\n",
      "Python is an interpreted, high-level programming language for general-purpose programming. Created by Guido van Rossum \n",
      "and first released in 1991, Python has a design philosophy that emphasizes code readability, notably using significant \n",
      "whitespace. It provides constructs that enable clear programming on both small and large scales.[26] In July 2018, \n",
      "Van Rossum stepped down as the leader in the language community.[27][28]\n",
      "Python features a dynamic type system and automatic memory management. It supports multiple programming paradigms, \n",
      "including object-oriented, imperative, functional and procedural, and has a large and comprehensive standard library.[29]\n",
      "Python interpreters are available for many operating systems. CPython, the reference implementation of Python, \n",
      "is open source software[30] and has a community-based development model, as do nearly all of Python's other implementations. \n",
      "Python and CPython are managed by the non-profit Python Software Foundation.\n",
      " \n",
      "\n",
      "Python i an interpreted highlevel programming language for generalpurpose programming Created by Guido van Rossum and first released in 1991 Python ha a design philosophy that emphasize code readability notably using significant whitespace It provide construct that enable clear programming on both small and large scales26 In July 2018 Van Rossum stepped down a the leader in the language community2728 Python feature a dynamic type system and automatic memory management It support multiple programming paradigm including objectoriented imperative functional and procedural and ha a large and comprehensive standard library29 Python interpreter are available for many operating system CPython the reference implementation of Python i open source software30 and ha a communitybased development model a do nearly all of Python other implementation Python and CPython are managed by the nonprofit Python Software Foundation \n",
      "\n",
      "### There were a total of 17 words altered ###\n"
     ]
    }
   ],
   "source": [
    "i=0\n",
    "special=punct.split()\n",
    "finds = [output[:-1]\n",
    "         if output[-1]=='s' else output for output in special]\n",
    "for word in special:\n",
    "    if word.endswith('s'):\n",
    "        i=i+1\n",
    "print(paragraph, '\\n')\n",
    "print (\" \".join(finds), '\\n')\n",
    "print('### There were a total of '+str(i)+' words altered ###')"
   ]
  },
  {
   "cell_type": "code",
   "execution_count": 80,
   "metadata": {},
   "outputs": [
    {
     "name": "stdout",
     "output_type": "stream",
     "text": [
      "\n",
      "Python is an interpreted highlevel programming language for generalpurpose programming Created by Guido van Rossum \n",
      "and first released in 1991 Python has a design philosophy that emphasizes code readability notably using significant \n",
      "whitespace It provides constructs that enable clear programming on both small and large scales26 In July 2018 \n",
      "Van Rossum stepped down as the leader in the language community2728\n",
      "Python features a dynamic type system and automatic memory management It supports multiple programming paradigms \n",
      "including objectoriented imperative functional and procedural and has a large and comprehensive standard library29\n",
      "Python interpreters are available for many operating systems CPython the reference implementation of Python \n",
      "is open source software30 and has a communitybased development model as do nearly all of Pythons other implementations \n",
      "Python and CPython are managed by the nonprofit Python Software Foundation\n",
      "\n",
      "\n",
      "\n",
      "Python is an interpreted, high-level programming language for general-purpose programming. Created by Guido van Rossum \n",
      "and first released in 1991, Python has a design philosophy that emphasizes code readability, notably using significant \n",
      "whitespace. It provides constructs that enable clear programming on both small and large scales.[26] In July 2018, \n",
      "Van Rossum stepped down as the leader in the language community.[27][28]\n",
      "Python features a dynamic type system and automatic memory management. It supports multiple programming paradigms, \n",
      "including object-oriented, imperative, functional and procedural, and has a large and comprehensive standard library.[29]\n",
      "Python interpreters are available for many operating systems. CPython, the reference implementation of Python, \n",
      "is open source software[30] and has a community-based development model, as do nearly all of Python's other implementations. \n",
      "Python and CPython are managed by the non-profit Python Software Foundation.\n",
      " \n",
      "\n",
      "Python i an interpreted highlevel programming language for generalpurpose programming Created by Guido van Rossum and first released in 1991 Python ha a design philosophy that emphasize code readability notably using significant whitespace It provide construct that enable clear programming on both small and large scales26 In July 2018 Van Rossum stepped down a the leader in the language community2728 Python feature a dynamic type system and automatic memory management It support multiple programming paradigm including objectoriented imperative functional and procedural and ha a large and comprehensive standard library29 Python interpreter are available for many operating system CPython the reference implementation of Python i open source software30 and ha a communitybased development model a do nearly all of Python other implementation Python and CPython are managed by the nonprofit Python Software Foundation \n",
      "\n",
      "### There were a total of 17 words altered ###\n"
     ]
    }
   ],
   "source": [
    "punctuation='''!()-[]{};:'\"\\,<>./?@#$%^&*_~'''\n",
    "punct=\"\"\n",
    "for p in paragraph:\n",
    "    if p not in punctuation:\n",
    "        punct=no_punct + p\n",
    "print(punct)\n",
    "a=0\n",
    "special=punct.split()\n",
    "finds = [output[:-1]\n",
    "         if output[-1]=='s' else output for output in special]\n",
    "for word in special:\n",
    "    if word.endswith('s'):\n",
    "        a=a+1\n",
    "print(paragraph, '\\n')\n",
    "print (\" \".join(finds), '\\n')\n",
    "print('### There were a total of '+str(a)+' words altered ###')"
   ]
  },
  {
   "cell_type": "code",
   "execution_count": null,
   "metadata": {},
   "outputs": [],
   "source": []
  }
 ],
 "metadata": {
  "kernelspec": {
   "display_name": "Python 3",
   "language": "python",
   "name": "python3"
  },
  "language_info": {
   "codemirror_mode": {
    "name": "ipython",
    "version": 3
   },
   "file_extension": ".py",
   "mimetype": "text/x-python",
   "name": "python",
   "nbconvert_exporter": "python",
   "pygments_lexer": "ipython3",
   "version": "3.6.5"
  }
 },
 "nbformat": 4,
 "nbformat_minor": 2
}
